{
 "cells": [
  {
   "cell_type": "code",
   "execution_count": 1,
   "metadata": {},
   "outputs": [],
   "source": [
    "import numpy as np\n",
    "import pandas as pd\n",
    "import seaborn as sns\n",
    "import koreanize_matplotlib\n",
    "import matplotlib.pyplot as plt\n",
    "from utils import make_submit, base_model, feature_importance"
   ]
  },
  {
   "cell_type": "code",
   "execution_count": 2,
   "metadata": {},
   "outputs": [],
   "source": [
    "train_df = pd.read_csv('./data/train.csv')\n",
    "test_df = pd.read_csv('./data/test.csv')"
   ]
  },
  {
   "cell_type": "code",
   "execution_count": 3,
   "metadata": {},
   "outputs": [
    {
     "data": {
      "text/plain": [
       "Index(['UID', '주거 형태', '연간 소득', '현재 직장 근속 연수', '체납 세금 압류 횟수', '개설된 신용계좌 수',\n",
       "       '신용 거래 연수', '최대 신용한도', '신용 문제 발생 횟수', '마지막 연체 이후 경과 개월 수', '개인 파산 횟수',\n",
       "       '대출 목적', '대출 상환 기간', '현재 대출 잔액', '현재 미상환 신용액', '월 상환 부채액', '신용 점수',\n",
       "       '채무 불이행 여부'],\n",
       "      dtype='object')"
      ]
     },
     "execution_count": 3,
     "metadata": {},
     "output_type": "execute_result"
    }
   ],
   "source": [
    "train_df.columns"
   ]
  },
  {
   "cell_type": "code",
   "execution_count": 4,
   "metadata": {},
   "outputs": [
    {
     "name": "stdout",
     "output_type": "stream",
     "text": [
      "<class 'pandas.core.frame.DataFrame'>\n",
      "RangeIndex: 10000 entries, 0 to 9999\n",
      "Data columns (total 18 columns):\n",
      " #   Column             Non-Null Count  Dtype  \n",
      "---  ------             --------------  -----  \n",
      " 0   UID                10000 non-null  object \n",
      " 1   주거 형태              10000 non-null  object \n",
      " 2   연간 소득              10000 non-null  float64\n",
      " 3   현재 직장 근속 연수        10000 non-null  object \n",
      " 4   체납 세금 압류 횟수        10000 non-null  float64\n",
      " 5   개설된 신용계좌 수         10000 non-null  int64  \n",
      " 6   신용 거래 연수           10000 non-null  float64\n",
      " 7   최대 신용한도            10000 non-null  float64\n",
      " 8   신용 문제 발생 횟수        10000 non-null  int64  \n",
      " 9   마지막 연체 이후 경과 개월 수  10000 non-null  int64  \n",
      " 10  개인 파산 횟수           10000 non-null  int64  \n",
      " 11  대출 목적              10000 non-null  object \n",
      " 12  대출 상환 기간           10000 non-null  object \n",
      " 13  현재 대출 잔액           10000 non-null  float64\n",
      " 14  현재 미상환 신용액         10000 non-null  float64\n",
      " 15  월 상환 부채액           10000 non-null  float64\n",
      " 16  신용 점수              10000 non-null  int64  \n",
      " 17  채무 불이행 여부          10000 non-null  int64  \n",
      "dtypes: float64(7), int64(6), object(5)\n",
      "memory usage: 1.4+ MB\n"
     ]
    }
   ],
   "source": [
    "train_df.info()"
   ]
  },
  {
   "cell_type": "code",
   "execution_count": 5,
   "metadata": {},
   "outputs": [
    {
     "data": {
      "text/plain": [
       "채무 불이행 여부\n",
       "0    0.6588\n",
       "1    0.3412\n",
       "Name: proportion, dtype: float64"
      ]
     },
     "execution_count": 5,
     "metadata": {},
     "output_type": "execute_result"
    }
   ],
   "source": [
    "train_df['채무 불이행 여부'].value_counts(normalize=True)"
   ]
  },
  {
   "cell_type": "code",
   "execution_count": 6,
   "metadata": {},
   "outputs": [],
   "source": [
    "train_df_default = train_df[train_df['채무 불이행 여부'] == 1]"
   ]
  },
  {
   "cell_type": "code",
   "execution_count": 7,
   "metadata": {},
   "outputs": [
    {
     "data": {
      "text/plain": [
       "주거 형태\n",
       "월세                  0.456917\n",
       "주택 담보 대출 (거주 중)     0.324443\n",
       "자가                  0.215123\n",
       "주택 담보 대출 (비거주 중)    0.003517\n",
       "Name: proportion, dtype: float64"
      ]
     },
     "execution_count": 7,
     "metadata": {},
     "output_type": "execute_result"
    }
   ],
   "source": [
    "train_df_default['주거 형태'].value_counts(normalize=True)"
   ]
  },
  {
   "cell_type": "code",
   "execution_count": 8,
   "metadata": {},
   "outputs": [
    {
     "data": {
      "text/plain": [
       "주거 형태\n",
       "월세                  0.384938\n",
       "주택 담보 대출 (거주 중)     0.304707\n",
       "자가                  0.327532\n",
       "주택 담보 대출 (비거주 중)    0.157895\n",
       "Name: count, dtype: float64"
      ]
     },
     "execution_count": 8,
     "metadata": {},
     "output_type": "execute_result"
    }
   ],
   "source": [
    "train_df_default['주거 형태'].value_counts() / train_df['주거 형태'].value_counts()"
   ]
  },
  {
   "cell_type": "code",
   "execution_count": 9,
   "metadata": {},
   "outputs": [],
   "source": [
    "# 주택 담보 대출 (비거주 중) 컬럼은 피쳐에서 빼자"
   ]
  },
  {
   "cell_type": "code",
   "execution_count": 10,
   "metadata": {},
   "outputs": [
    {
     "data": {
      "text/plain": [
       "현재 직장 근속 연수\n",
       "10년 이상    0.321805\n",
       "8년        0.121630\n",
       "2년        0.088804\n",
       "1년        0.082943\n",
       "4년        0.070047\n",
       "7년        0.066530\n",
       "3년        0.060961\n",
       "5년        0.058617\n",
       "1년 미만     0.054513\n",
       "6년        0.040739\n",
       "9년        0.033411\n",
       "Name: proportion, dtype: float64"
      ]
     },
     "execution_count": 10,
     "metadata": {},
     "output_type": "execute_result"
    }
   ],
   "source": [
    "train_df_default['현재 직장 근속 연수'].value_counts(normalize=True)"
   ]
  },
  {
   "cell_type": "code",
   "execution_count": 11,
   "metadata": {},
   "outputs": [
    {
     "data": {
      "text/plain": [
       "현재 직장 근속 연수\n",
       "10년 이상    0.286834\n",
       "1년        0.487091\n",
       "1년 미만     0.381148\n",
       "2년        0.247347\n",
       "3년        0.397706\n",
       "4년        0.441774\n",
       "5년        0.274348\n",
       "6년        0.389356\n",
       "7년        0.366721\n",
       "8년        0.493460\n",
       "9년        0.425373\n",
       "Name: count, dtype: float64"
      ]
     },
     "execution_count": 11,
     "metadata": {},
     "output_type": "execute_result"
    }
   ],
   "source": [
    "train_df_default['현재 직장 근속 연수'].value_counts() / train_df['현재 직장 근속 연수'].value_counts()"
   ]
  },
  {
   "cell_type": "code",
   "execution_count": 12,
   "metadata": {},
   "outputs": [
    {
     "data": {
      "text/plain": [
       "대출 목적\n",
       "부채 통합     0.851993\n",
       "기타        0.061841\n",
       "주택 개보수    0.046600\n",
       "사업 대출     0.013775\n",
       "의료비       0.009086\n",
       "여행 자금     0.008206\n",
       "자동차 구매    0.003810\n",
       "고액 구매     0.002345\n",
       "주택 구매     0.001172\n",
       "결혼 자금     0.000586\n",
       "휴가 비용     0.000586\n",
       "Name: proportion, dtype: float64"
      ]
     },
     "execution_count": 12,
     "metadata": {},
     "output_type": "execute_result"
    }
   ],
   "source": [
    "train_df_default['대출 목적'].value_counts(normalize=True)"
   ]
  },
  {
   "cell_type": "code",
   "execution_count": 13,
   "metadata": {},
   "outputs": [
    {
     "data": {
      "text/plain": [
       "대출 목적\n",
       "결혼 자금        0.142857\n",
       "고액 구매        0.117647\n",
       "교육비               NaN\n",
       "기타           0.217526\n",
       "부채 통합        0.398547\n",
       "사업 대출        0.185039\n",
       "소규모 사업 자금         NaN\n",
       "여행 자금        0.161850\n",
       "의료비          0.196203\n",
       "이사 비용             NaN\n",
       "자동차 구매       0.136842\n",
       "주택 개보수       0.174917\n",
       "주택 구매        0.153846\n",
       "휴가 비용        0.333333\n",
       "Name: count, dtype: float64"
      ]
     },
     "execution_count": 13,
     "metadata": {},
     "output_type": "execute_result"
    }
   ],
   "source": [
    "train_df_default['대출 목적'].value_counts() / train_df['대출 목적'].value_counts() "
   ]
  },
  {
   "cell_type": "code",
   "execution_count": null,
   "metadata": {},
   "outputs": [],
   "source": []
  },
  {
   "cell_type": "code",
   "execution_count": 14,
   "metadata": {},
   "outputs": [
    {
     "data": {
      "text/plain": [
       "대출 상환 기간\n",
       "단기 상환    0.625147\n",
       "장기 상환    0.374853\n",
       "Name: proportion, dtype: float64"
      ]
     },
     "execution_count": 14,
     "metadata": {},
     "output_type": "execute_result"
    }
   ],
   "source": [
    "train_df_default['대출 상환 기간'].value_counts(normalize=True)"
   ]
  },
  {
   "cell_type": "code",
   "execution_count": 15,
   "metadata": {},
   "outputs": [
    {
     "data": {
      "text/plain": [
       "대출 상환 기간\n",
       "단기 상환    0.305806\n",
       "장기 상환    0.422810\n",
       "Name: count, dtype: float64"
      ]
     },
     "execution_count": 15,
     "metadata": {},
     "output_type": "execute_result"
    }
   ],
   "source": [
    "train_df_default['대출 상환 기간'].value_counts() / train_df['대출 상환 기간'].value_counts()"
   ]
  },
  {
   "cell_type": "code",
   "execution_count": 16,
   "metadata": {},
   "outputs": [],
   "source": [
    "# 범주형 데이터 인코딩\n",
    "train_df = pd.get_dummies(train_df, columns=['주거 형태'])\n",
    "test_df = pd.get_dummies(test_df, columns=['주거 형태'])\n",
    "\n",
    "ordinal_mapping = {\n",
    "    '1년 미만': 0,\n",
    "    '1년': 1,\n",
    "    '2년': 2,\n",
    "    '3년': 3,\n",
    "    '4년': 4,\n",
    "    '5년': 5,\n",
    "    '6년': 6,\n",
    "    '7년': 7,\n",
    "    '8년': 8,\n",
    "    '9년': 9,\n",
    "    '10년 이상': 10\n",
    "}\n",
    "train_df['현재 직장 근속 연수'] = train_df['현재 직장 근속 연수'].map(ordinal_mapping)\n",
    "test_df['현재 직장 근속 연수'] = test_df['현재 직장 근속 연수'].map(ordinal_mapping)\n",
    "\n",
    "train_df['대출 목적'] = train_df['대출 목적'].apply(lambda x: 1 if x == '부채 통합' else 0)\n",
    "test_df['대출 목적'] = test_df['대출 목적'].apply(lambda x: 1 if x == '부채 통합' else 0)\n",
    "\n",
    "train_df['대출 상환 기간'] = train_df['대출 상환 기간'].apply(lambda x: 0 if x == '단기 상환' else 1)\n",
    "test_df['대출 상환 기간'] = test_df['대출 상환 기간'].apply(lambda x: 0 if x == '단기 상환' else 1)\n",
    "\n",
    "#수치형 데이터\n",
    "train_df['체납 세금 압류 횟수'] = train_df['체납 세금 압류 횟수'].apply(lambda x: 0 if x == 0 else 1)\n",
    "test_df['체납 세금 압류 횟수'] = test_df['체납 세금 압류 횟수'].apply(lambda x: 0 if x == 0 else 1)\n",
    "\n",
    "train_df['신용 문제 발생 횟수'] = train_df['신용 문제 발생 횟수'].apply(lambda x: 0 if x == 0 else (1 if x == 1 else 2))\n",
    "test_df['신용 문제 발생 횟수'] = test_df['신용 문제 발생 횟수'].apply(lambda x: 0 if x == 0 else (1 if x == 1 else 2))  \n",
    "\n",
    "train_df['개인 파산 횟수'] = train_df['개인 파산 횟수'].apply(lambda x: 0 if x == 0 else (1 if x == 1 else 2))\n",
    "test_df['개인 파산 횟수'] = test_df['개인 파산 횟수'].apply(lambda x: 0 if x == 0 else (1 if x == 1 else 2))"
   ]
  },
  {
   "cell_type": "code",
   "execution_count": 17,
   "metadata": {},
   "outputs": [
    {
     "data": {
      "text/plain": [
       "Index(['UID', '연간 소득', '현재 직장 근속 연수', '체납 세금 압류 횟수', '개설된 신용계좌 수', '신용 거래 연수',\n",
       "       '최대 신용한도', '신용 문제 발생 횟수', '마지막 연체 이후 경과 개월 수', '개인 파산 횟수', '대출 목적',\n",
       "       '대출 상환 기간', '현재 대출 잔액', '현재 미상환 신용액', '월 상환 부채액', '신용 점수', '채무 불이행 여부',\n",
       "       '주거 형태_월세', '주거 형태_자가', '주거 형태_주택 담보 대출 (거주 중)',\n",
       "       '주거 형태_주택 담보 대출 (비거주 중)'],\n",
       "      dtype='object')"
      ]
     },
     "execution_count": 17,
     "metadata": {},
     "output_type": "execute_result"
    }
   ],
   "source": [
    "train_df.columns"
   ]
  },
  {
   "cell_type": "code",
   "execution_count": 18,
   "metadata": {},
   "outputs": [],
   "source": [
    "features = ['연간 소득', '현재 직장 근속 연수', '체납 세금 압류 횟수', '개설된 신용계좌 수', '신용 거래 연수',\n",
    "    '최대 신용한도', '신용 문제 발생 횟수', '마지막 연체 이후 경과 개월 수', '개인 파산 횟수', '대출 목적',\n",
    "    '대출 상환 기간', '현재 대출 잔액', '현재 미상환 신용액', '월 상환 부채액', '신용 점수',\n",
    "    '주거 형태_월세', '주거 형태_자가', '주거 형태_주택 담보 대출 (거주 중)',\n",
    "]\n",
    "target = '채무 불이행 여부'"
   ]
  },
  {
   "cell_type": "code",
   "execution_count": 19,
   "metadata": {},
   "outputs": [
    {
     "name": "stdout",
     "output_type": "stream",
     "text": [
      "Accuracy: 0.70\n",
      "Classification Report:\n",
      "              precision    recall  f1-score   support\n",
      "\n",
      "           0       0.71      0.90      0.79      1270\n",
      "           1       0.67      0.36      0.47       730\n",
      "\n",
      "    accuracy                           0.70      2000\n",
      "   macro avg       0.69      0.63      0.63      2000\n",
      "weighted avg       0.69      0.70      0.67      2000\n",
      "\n"
     ]
    }
   ],
   "source": [
    "model = base_model(train_df[features], train_df[target])"
   ]
  },
  {
   "cell_type": "code",
   "execution_count": 20,
   "metadata": {},
   "outputs": [
    {
     "data": {
      "image/png": "[encoded data removed]",
      "text/plain": [
       "<Figure size 1000x600 with 1 Axes>"
      ]
     },
     "metadata": {},
     "output_type": "display_data"
    }
   ],
   "source": [
    "feature_importance(model, train_df[features])"
   ]
  },
  {
   "cell_type": "code",
   "execution_count": 22,
   "metadata": {},
   "outputs": [],
   "source": [
    "make_submit(test_df, features, model)"
   ]
  },
  {
   "cell_type": "code",
   "execution_count": null,
   "metadata": {},
   "outputs": [],
   "source": []
  },
  {
   "cell_type": "code",
   "execution_count": null,
   "metadata": {},
   "outputs": [],
   "source": []
  },
  {
   "cell_type": "markdown",
   "metadata": {},
   "source": [
    "sfs\n"
   ]
  }
 ],
 "metadata": {
  "kernelspec": {
   "display_name": ".venv",
   "language": "python",
   "name": "python3"
  },
  "language_info": {
   "codemirror_mode": {
    "name": "ipython",
    "version": 3
   },
   "file_extension": ".py",
   "mimetype": "text/x-python",
   "name": "python",
   "nbconvert_exporter": "python",
   "pygments_lexer": "ipython3",
   "version": "3.13.2"
  }
 },
 "nbformat": 4,
 "nbformat_minor": 2
}
